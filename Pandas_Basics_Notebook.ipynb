{
 "cells": [
  {
   "cell_type": "markdown",
   "id": "532243b6",
   "metadata": {},
   "source": [
    "# Pandas Basics in Python\n",
    "\n",
    "Pandas is a Python library used for data manipulation and analysis. It provides powerful data structures like **DataFrame** and **Series** for handling structured data effectively."
   ]
  },
  {
   "cell_type": "code",
   "execution_count": null,
   "id": "23ed7eed",
   "metadata": {},
   "outputs": [],
   "source": [
    "# Install pandas if not already installed\n",
    "# !pip install pandas"
   ]
  },
  {
   "cell_type": "markdown",
   "id": "0ed1fdb5",
   "metadata": {},
   "source": [
    "## **Creating a DataFrame**"
   ]
  },
  {
   "cell_type": "code",
   "execution_count": null,
   "id": "740a49fc",
   "metadata": {},
   "outputs": [],
   "source": [
    "import pandas as pd\n",
    "\n",
    "# Create a dummy DataFrame\n",
    "data = {\n",
    "    'Name': ['Alice', 'Bob', 'Charlie', 'David'],\n",
    "    'Age': [25, 30, 35, 40],\n",
    "    'Salary': [50000, 60000, 55000, 70000]\n",
    "}\n",
    "\n",
    "df = pd.DataFrame(data)\n",
    "print(\"DataFrame:\")\n",
    "print(df)"
   ]
  },
  {
   "cell_type": "markdown",
   "id": "1f2b371e",
   "metadata": {},
   "source": [
    "## **Viewing Data**"
   ]
  },
  {
   "cell_type": "code",
   "execution_count": null,
   "id": "e59378f9",
   "metadata": {},
   "outputs": [],
   "source": [
    "# View the first few rows\n",
    "print(df.head())\n",
    "\n",
    "# Display column names\n",
    "print(df.columns)\n",
    "\n",
    "# Shape of the DataFrame\n",
    "print(df.shape)"
   ]
  },
  {
   "cell_type": "markdown",
   "id": "41ce7277",
   "metadata": {},
   "source": [
    "## **Basic Data Manipulation**"
   ]
  },
  {
   "cell_type": "code",
   "execution_count": null,
   "id": "d4149c3f",
   "metadata": {},
   "outputs": [],
   "source": [
    "# Adding a New Column\n",
    "df['Bonus'] = df['Salary'] * 0.1\n",
    "print(\"\\nDataFrame with Bonus:\")\n",
    "print(df)"
   ]
  },
  {
   "cell_type": "code",
   "execution_count": null,
   "id": "0cee41ab",
   "metadata": {},
   "outputs": [],
   "source": [
    "# Filtering Data\n",
    "high_salary = df[df['Salary'] > 55000]\n",
    "print(\"\\nEmployees with Salary > 55000:\")\n",
    "print(high_salary)"
   ]
  },
  {
   "cell_type": "code",
   "execution_count": null,
   "id": "0f685129",
   "metadata": {},
   "outputs": [],
   "source": [
    "# Grouping and Aggregation\n",
    "print(\"\\nAverage Salary by Age:\")\n",
    "print(df.groupby('Age')['Salary'].mean())"
   ]
  },
  {
   "cell_type": "markdown",
   "id": "faee3771",
   "metadata": {},
   "source": [
    "## **File Input/Output**"
   ]
  },
  {
   "cell_type": "code",
   "execution_count": null,
   "id": "2d6f5388",
   "metadata": {},
   "outputs": [],
   "source": [
    "# Save to CSV\n",
    "df.to_csv(\"dummy_data.csv\", index=False)\n",
    "\n",
    "# Load from CSV\n",
    "new_df = pd.read_csv(\"dummy_data.csv\")\n",
    "print(\"\\nLoaded DataFrame:\")\n",
    "print(new_df)"
   ]
  },
  {
   "cell_type": "markdown",
   "id": "46020e29",
   "metadata": {},
   "source": [
    "## **Advanced Applications**"
   ]
  },
  {
   "cell_type": "code",
   "execution_count": null,
   "id": "da7f9071",
   "metadata": {},
   "outputs": [],
   "source": [
    "# Handling Missing Data\n",
    "data = {\n",
    "    'Name': ['Alice', 'Bob', 'Charlie', 'David'],\n",
    "    'Age': [25, None, 35, 40],\n",
    "    'Salary': [50000, 60000, None, 70000]\n",
    "}\n",
    "\n",
    "df = pd.DataFrame(data)\n",
    "\n",
    "# Fill missing values\n",
    "df['Age'].fillna(df['Age'].mean(), inplace=True)\n",
    "\n",
    "# Drop rows with missing values\n",
    "df.dropna(inplace=True)\n",
    "\n",
    "print(\"\\nDataFrame after handling missing values:\")\n",
    "print(df)"
   ]
  },
  {
   "cell_type": "code",
   "execution_count": null,
   "id": "1c0e4a48",
   "metadata": {},
   "outputs": [],
   "source": [
    "# Merging DataFrames\n",
    "df1 = pd.DataFrame({'ID': [1, 2], 'Name': ['Alice', 'Bob']})\n",
    "df2 = pd.DataFrame({'ID': [1, 2], 'Salary': [50000, 60000]})\n",
    "\n",
    "merged_df = pd.merge(df1, df2, on='ID')\n",
    "print(\"\\nMerged DataFrame:\")\n",
    "print(merged_df)"
   ]
  },
  {
   "cell_type": "markdown",
   "id": "d076dfcb",
   "metadata": {},
   "source": [
    "## **Visualization with Pandas**"
   ]
  },
  {
   "cell_type": "code",
   "execution_count": null,
   "id": "3c96997e",
   "metadata": {},
   "outputs": [],
   "source": [
    "import matplotlib.pyplot as plt\n",
    "\n",
    "# Line plot\n",
    "df.plot(x='Age', y='Salary', kind='line')\n",
    "plt.show()\n",
    "\n",
    "# Bar plot\n",
    "df['Salary'].plot(kind='bar')\n",
    "plt.show()"
   ]
  },
  {
   "cell_type": "markdown",
   "id": "58b4bd50",
   "metadata": {},
   "source": [
    "## **Applications of Pandas**\n",
    "\n",
    "1. **Data Cleaning and Preprocessing:** Handle missing values, duplicates, and type conversions.\n",
    "2. **Exploratory Data Analysis (EDA):** Analyze datasets to find patterns and trends.\n",
    "3. **Feature Engineering:** Prepare data for machine learning workflows.\n",
    "4. **Time-Series Analysis:** Analyze temporal data for trends and patterns.\n",
    "5. **Input/Output:** Read/write data from various file formats (CSV, Excel, JSON, SQL).\n",
    "6. **Integration with Machine Learning Libraries:** Prepare datasets for scikit-learn, TensorFlow, or PyTorch models."
   ]
  }
 ],
 "metadata": {},
 "nbformat": 4,
 "nbformat_minor": 5
}
